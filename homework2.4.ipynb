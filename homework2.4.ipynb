{
  "nbformat": 4,
  "nbformat_minor": 0,
  "metadata": {
    "colab": {
      "name": "homework2.4.ipynb",
      "provenance": [],
      "authorship_tag": "ABX9TyMVmcLh5yy828ZOqSUwGxp0",
      "include_colab_link": true
    },
    "kernelspec": {
      "name": "python3",
      "display_name": "Python 3"
    }
  },
  "cells": [
    {
      "cell_type": "markdown",
      "metadata": {
        "id": "view-in-github",
        "colab_type": "text"
      },
      "source": [
        "<a href=\"https://colab.research.google.com/github/KezhenLi/Homework2/blob/main/homework2.4.ipynb\" target=\"_parent\"><img src=\"https://colab.research.google.com/assets/colab-badge.svg\" alt=\"Open In Colab\"/></a>"
      ]
    },
    {
      "cell_type": "code",
      "metadata": {
        "colab": {
          "base_uri": "https://localhost:8080/",
          "height": 329
        },
        "id": "rxsSxSkAMVxB",
        "outputId": "4c0b77c9-f176-450b-c750-ffb73c1d4a89"
      },
      "source": [
        "import math\n",
        "import numpy as np\n",
        "import random as rand\n",
        "from matplotlib import pyplot as plt\n",
        "\n",
        "x = [5.4874e+14, 6.931e+14, 7.4307e+14, 8.2193e+14, 9.6074e+14, 1.184e+15]\n",
        "y = [0.5309, 1.0842, 1.2734, 1.6598, 2.19856, 3.10891]\n",
        "N = 6\n",
        "Ex = 0   \n",
        "Ey = 0\n",
        "Exx = 0\n",
        "Exy = 0\n",
        "m = 0\n",
        "c = 0\n",
        "for i in range(N):\n",
        "  Ex = Ex + 1/N * x[i]\n",
        "  Ey = Ey + 1/N * y[i]\n",
        "  Exx = Exx + 1/N * x[i]*x[i]\n",
        "  Exy = Exy + 1/N * x[i]*y[i]\n",
        "c = (Exx*Ey - Ex*Exy)/(Exx - Ex*Ex)\n",
        "m = (Exy - Ex*Ey)/(Exx - Ex*Ex)\n",
        "print(c,m) #The best fit straight line parameters\n",
        "\n",
        "array = np.zeros(N) \n",
        "for i in range(N):\n",
        "  array[i] = m*x[i] + c\n",
        "print(array)\n",
        "\n",
        "plt.scatter(x,y)\n",
        "plt.plot(x,array,'r--')\n",
        "plt.xlabel(\"x\")\n",
        "plt.ylabel(\"y\")\n",
        "plt.title(\"x-y\")\n",
        "plt.show()\n",
        "\n",
        "#m = h/e = 4.088227358517502e-15 V/Hz, -c = phi = 1.73123580398135 V, e = 1.602*10^(-19)C\n",
        "#h = m*e = 4.088227358517502e-15 * 1.602*10^(-19) = 6.549 * 10^(-34) J*s\n",
        "#%difference = |6.626 * 10^(-34) - 6.549 * 10^(-34)|/6.626 * 10^(-34) = 1.162%"
      ],
      "execution_count": 25,
      "outputs": [
        {
          "output_type": "stream",
          "text": [
            "-1.73123580398135 4.088227358517502e-15\n",
            "[0.51213808 1.10231458 1.3066033  1.62900091 2.19648775 3.10922539]\n"
          ],
          "name": "stdout"
        },
        {
          "output_type": "display_data",
          "data": {
            "image/png": "[encoded data removed]",
            "text/plain": [
              "<Figure size 432x288 with 1 Axes>"
            ]
          },
          "metadata": {
            "tags": [],
            "needs_background": "light"
          }
        }
      ]
    },
    {
      "cell_type": "code",
      "metadata": {
        "colab": {
          "base_uri": "https://localhost:8080/"
        },
        "id": "3JS8V0yoVVRR",
        "outputId": "814a0da8-16f0-4590-ffd3-92a54c4caba7"
      },
      "source": [
        "import math\n",
        "import numpy as np\n",
        "import random as rand\n",
        "from matplotlib import pyplot as plt\n",
        "\n",
        "\n",
        "x = [5.4874e+14, 6.931e+14, 7.4307e+14, 8.2193e+14, 9.6074e+14, 1.184e+15]\n",
        "y = [0.5309, 1.0842, 1.2734, 1.6598, 2.19856, 3.10891]\n",
        "error = np.zeros(N) \n",
        "for i in range(N):\n",
        "  error[i] = 0.02*y[i]\n",
        "N = 6\n",
        "Ex = 0   \n",
        "Ey = 0\n",
        "Exx = 0\n",
        "Exy = 0\n",
        "m = 0\n",
        "c = 0\n",
        "S = 0\n",
        "Sx = 0\n",
        "Sy = 0\n",
        "t = 0\n",
        "Stt = 0\n",
        "Sa2 = 0\n",
        "Sb2 = 0\n",
        "Chi2 = 0\n",
        "for i in range(N):\n",
        "  Ex = Ex + 1/N * x[i]\n",
        "  Ey = Ey + 1/N * y[i]\n",
        "  Exx = Exx + 1/N * x[i]*x[i]\n",
        "  Exy = Exy + 1/N * x[i]*y[i]\n",
        "  S = S + 1/(error[i]*error[i])\n",
        "  Sx = Sx + x[i]/(error[i]*error[i])\n",
        "  Sy = Sy + y[i]/(error[i]*error[i])\n",
        "  Stt = Stt + pow((x[i] - Sx/S)/(error[i]),2)\n",
        "c = (Exx*Ey - Ex*Exy)/(Exx - Ex*Ex)\n",
        "m = (Exy - Ex*Ey)/(Exx - Ex*Ex)\n",
        "Sa2 = 1/S*(1 + Sx*Sx/(S*Stt))\n",
        "Sb2 = 1/Stt\n",
        "print(c,m,Sa2,Sb2) #The best fit straight line parameters and errors on parameters\n",
        "for i in range(N):\n",
        "  Chi2 = Chi2 + pow((y[i] - c - m*x[i])/error[i],2)\n",
        "print(Chi2) #Chi2/ndf\n",
        "\n",
        "#The value of a,b,h doesn't change."
      ],
      "execution_count": 34,
      "outputs": [
        {
          "output_type": "stream",
          "text": [
            "-1.73123580398135 4.088227358517502e-15 0.0017690331234890542 4.2079999381941107e-33\n",
            "6.382889295199786\n"
          ],
          "name": "stdout"
        }
      ]
    },
    {
      "cell_type": "code",
      "metadata": {
        "colab": {
          "base_uri": "https://localhost:8080/"
        },
        "id": "dWLLngzyajT1",
        "outputId": "94c0342b-9fd3-44c1-a6db-72ec24b17ef2"
      },
      "source": [
        "import math\n",
        "import numpy as np\n",
        "import random as rand\n",
        "from matplotlib import pyplot as plt\n",
        "\n",
        "\n",
        "x = [5.4874e+14, 6.931e+14, 7.4307e+14, 8.2193e+14, 9.6074e+14, 1.184e+15]\n",
        "y = [0.5309, 1.0842, 1.2734, 1.6598, 2.19856, 3.10891]\n",
        "error = np.zeros(N)\n",
        "y1 = np.zeros(N)\n",
        "for i in range(N):\n",
        "  error[i] = 0.01*y[i]\n",
        "  y1[i] = y[i] + 0.03\n",
        "N = 6\n",
        "Ex = 0   \n",
        "Ey = 0\n",
        "Exx = 0\n",
        "Exy = 0\n",
        "m = 0\n",
        "c = 0\n",
        "S = 0\n",
        "Sx = 0\n",
        "Sy = 0\n",
        "t = 0\n",
        "Stt = 0\n",
        "Sa2 = 0\n",
        "Sb2 = 0\n",
        "Chi2 = 0\n",
        "for i in range(N):\n",
        "  Ex = Ex + 1/N * x[i]\n",
        "  Ey = Ey + 1/N * y1[i]\n",
        "  Exx = Exx + 1/N * x[i]*x[i]\n",
        "  Exy = Exy + 1/N * x[i]*y1[i]\n",
        "  S = S + 1/(error[i]*error[i])\n",
        "  Sx = Sx + x[i]/(error[i]*error[i])\n",
        "  Sy = Sy + y1[i]/(error[i]*error[i])\n",
        "  Stt = Stt + pow((x[i] - Sx/S)/(error[i]),2)\n",
        "c = (Exx*Ey - Ex*Exy)/(Exx - Ex*Ex)\n",
        "m = (Exy - Ex*Ey)/(Exx - Ex*Ex)\n",
        "Sa2 = 1/S*(1 + Sx*Sx/(S*Stt))\n",
        "Sb2 = 1/Stt\n",
        "print(c,m,Sa2,Sb2) #The best fit straight line parameters and errors on parameters\n",
        "for i in range(N):\n",
        "  Chi2 = Chi2 + pow((y1[i] - c - m*x[i])/error[i],2)\n",
        "print(Chi2) #Chi2/ndf\n",
        "\n",
        "#a = -1.7012358039813555 instead of -1.73123580398135\n",
        "#b = 4.088227358517508e-15 instead of 4.088227358517502e-15 the change is very small\n",
        "#h = 6.549 * 10^(-34) J*s doesn't change"
      ],
      "execution_count": 36,
      "outputs": [
        {
          "output_type": "stream",
          "text": [
            "-1.7012358039813555 4.088227358517508e-15 0.00044225828087226355 1.0519999845485277e-33\n",
            "25.531557180800924\n"
          ],
          "name": "stdout"
        }
      ]
    }
  ]
}