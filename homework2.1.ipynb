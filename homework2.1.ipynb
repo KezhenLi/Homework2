{
  "nbformat": 4,
  "nbformat_minor": 0,
  "metadata": {
    "colab": {
      "name": "homework2.1.ipynb",
      "provenance": [],
      "authorship_tag": "ABX9TyO/VnMo/mjpAsv+dwZ3S4Gn",
      "include_colab_link": true
    },
    "kernelspec": {
      "name": "python3",
      "display_name": "Python 3"
    }
  },
  "cells": [
    {
      "cell_type": "markdown",
      "metadata": {
        "id": "view-in-github",
        "colab_type": "text"
      },
      "source": [
        "<a href=\"https://colab.research.google.com/github/KezhenLi/Homework2/blob/main/homework2.1.ipynb\" target=\"_parent\"><img src=\"https://colab.research.google.com/assets/colab-badge.svg\" alt=\"Open In Colab\"/></a>"
      ]
    },
    {
      "cell_type": "code",
      "metadata": {
        "id": "0RlwUqXMoNAN"
      },
      "source": [
        "import math\n",
        "import numpy as np\n",
        "import random as rand"
      ],
      "execution_count": 90,
      "outputs": []
    },
    {
      "cell_type": "code",
      "metadata": {
        "colab": {
          "base_uri": "https://localhost:8080/"
        },
        "id": "8lNtoLZqoUKg",
        "outputId": "0dc8ff6a-d33c-4106-a73d-76fd6afa275a"
      },
      "source": [
        "N = 10 #Number of points\n",
        "M = 100 #Maximum value of x and y\n",
        "E = 5 #Maximum value of error\n",
        "array = np.zeros((3,N)) \n",
        "for i in range(N):\n",
        "  array[0][i] = rand.randint(0,M)\n",
        "  array[1][i] = rand.randint(0,M)\n",
        "  array[2][i] = rand.randint(-E,E)\n",
        "print(array)  #Take a set of N (x,y) points, each with associated errors\n",
        "Sumx2 = 0   \n",
        "Sumx = 0\n",
        "Sumy = 0\n",
        "Sumxy = 0\n",
        "a = 0\n",
        "b = 0\n",
        "S = 0\n",
        "Sx = 0\n",
        "Sy = 0\n",
        "t = 0\n",
        "Stt = 0\n",
        "Sa2 = 0\n",
        "Sb2 = 0\n",
        "Chi2 = 0\n",
        "for i in range(N):\n",
        " if array[2][i] != 0:\n",
        "  Sumx2 = Sumx2 + array[0][i]*array[0][i]\n",
        "  Sumx = Sumx + array[0][i]\n",
        "  Sumxy = Sumxy + array[0][i]*array[1][i]\n",
        "  Sumy = Sumy + array[1][i]\n",
        "  S = S + 1/(array[2][i]*array[2][i])\n",
        "  Sx = Sx + array[0][i]/(array[2][i]*array[2][i])\n",
        "  Sy = Sy + array[1][i]/(array[2][i]*array[2][i])\n",
        "  Stt = Stt + pow((array[0][i] - Sx/S)/(array[2][i]),2)\n",
        "a = (1/N*Sumxy*Sumx - 1/N*Sumy*Sumx2)/(1/N*Sumx*Sumx - Sumx2) \n",
        "b = (1/N*Sumy*Sumx - Sumxy)/(1/N*Sumx*Sumx - Sumx2)\n",
        "Sa2 = 1/S*(1 + Sx*Sx/(S*Stt))\n",
        "Sb2 = 1/Stt\n",
        "print(a,b,Sa2,Sb2) #The best fit straight line parameters and errors on parameters\n",
        "for j in range(N):\n",
        "  if array[2][j] != 0:\n",
        "    Chi2 = Chi2 + pow((array[1][j] - a - b*array[0][j])/array[2][j],2)\n",
        "print(Chi2) #Chi2/ndf\n",
        "\n"
      ],
      "execution_count": 91,
      "outputs": [
        {
          "output_type": "stream",
          "text": [
            "[[19. 88. 99. 75. 23.  1.  1. 62. 88. 60.]\n",
            " [98. 72. 86. 46. 17. 73.  2. 26. 92. 91.]\n",
            " [-2. -4. -1. -2. -4. -3.  0.  1.  4. -3.]]\n",
            "40.50397988449298 0.3805052449613012 3.9792196571869347 0.0007416949031587562\n",
            "2562.1025868805136\n"
          ],
          "name": "stdout"
        }
      ]
    }
  ]
}