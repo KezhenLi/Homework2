{
  "nbformat": 4,
  "nbformat_minor": 0,
  "metadata": {
    "colab": {
      "name": "homework2.1.ipynb",
      "provenance": [],
      "authorship_tag": "ABX9TyNMtTTJRnV9it67XoYGW4rM",
      "include_colab_link": true
    },
    "kernelspec": {
      "name": "python3",
      "display_name": "Python 3"
    }
  },
  "cells": [
    {
      "cell_type": "markdown",
      "metadata": {
        "id": "view-in-github",
        "colab_type": "text"
      },
      "source": [
        "<a href=\"https://colab.research.google.com/github/KezhenLi/Homework2/blob/main/homework2.1.ipynb\" target=\"_parent\"><img src=\"https://colab.research.google.com/assets/colab-badge.svg\" alt=\"Open In Colab\"/></a>"
      ]
    },
    {
      "cell_type": "code",
      "metadata": {
        "id": "0RlwUqXMoNAN"
      },
      "source": [
        "import math\n",
        "import numpy as np\n",
        "import random as rand"
      ],
      "execution_count": 12,
      "outputs": []
    },
    {
      "cell_type": "code",
      "metadata": {
        "colab": {
          "base_uri": "https://localhost:8080/"
        },
        "id": "8lNtoLZqoUKg",
        "outputId": "2bb52d16-bc3b-44b6-b63c-4afc690620a5"
      },
      "source": [
        "N = 10 #Number of points\n",
        "M = 100 #Maximum value of x and y\n",
        "E = 5 #Maximum value of error\n",
        "array = np.zeros((3,N)) \n",
        "for i in range(N):\n",
        "  array[0][i] = rand.randint(0,M)\n",
        "  array[1][i] = rand.randint(0,M)\n",
        "  array[2][i] = rand.randint(-E,E)\n",
        "print(array)  #Take a set of N (x,y) points, each with associated errors\n",
        "Sumx2 = 0   \n",
        "Sumx = 0\n",
        "Sumy = 0\n",
        "Sumxy = 0\n",
        "a = 0\n",
        "b = 0\n",
        "S = 0\n",
        "Sx = 0\n",
        "Sy = 0\n",
        "t = 0\n",
        "Stt = 0\n",
        "Sa2 = 0\n",
        "Sb2 = 0\n",
        "Chi2 = 0\n",
        "for i in range(N):\n",
        " if array[2][i] != 0:\n",
        "  Sumx2 = Sumx2 + array[0][i]*array[0][i]\n",
        "  Sumx = Sumx + array[0][i]\n",
        "  Sumxy = Sumxy + array[0][i]*array[1][i]\n",
        "  Sumy = Sumy + array[1][i]\n",
        "  S = S + 1/(array[2][i]*array[2][i])\n",
        "  Sx = Sx + array[0][i]/(array[2][i]*array[2][i])\n",
        "  Sy = Sy + array[1][i]/(array[2][i]*array[2][i])\n",
        "  Stt = Stt + pow((array[0][i] - Sx/S)/(array[2][i]),2)\n",
        "a = (1/N*Sumxy*Sumx - 1/N*Sumy*Sumx2)/(1/N*Sumx*Sumx - Sumx2) \n",
        "b = (1/N*Sumy*Sumx - 1/N*Sumxy)/(1/N*Sumx*Sumx - Sumx2)\n",
        "Sa2 = 1/S*(1 + Sx*Sx/(S*Stt))\n",
        "Sb2 = 1/Stt\n",
        "print(a,b,Sa2,Sb2) #The best fit straight line parameters and errors on parameters\n",
        "for j in range(N):\n",
        "  if array[2][j] != 0:\n",
        "    Chi2 = Chi2 + pow((array[1][j] - a - b*array[0][j])/array[2][j],2)\n",
        "print(Chi2) #Chi2/ndf\n",
        "\n"
      ],
      "execution_count": 88,
      "outputs": [
        {
          "output_type": "stream",
          "text": [
            "[[ 44.  33.   8.  89.  95.  83.  86.  83.  23.  22.]\n",
            " [ 88.  79.  76.  51.  68. 100.  22.   2.  83.  58.]\n",
            " [  5.   0.   0.  -3.  -3.   0.   5.  -2.  -5.   3.]]\n",
            "26.11770329700347 -0.9854817121472864 13.298750901349777 0.0023729357510904464\n",
            "5555.305481840158\n"
          ],
          "name": "stdout"
        }
      ]
    }
  ]
}