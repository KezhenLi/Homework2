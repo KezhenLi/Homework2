{
  "nbformat": 4,
  "nbformat_minor": 0,
  "metadata": {
    "colab": {
      "name": "homework2.3.ipynb",
      "provenance": [],
      "authorship_tag": "ABX9TyPXDYa/dZgBKy1mj0xm9rTV",
      "include_colab_link": true
    },
    "kernelspec": {
      "name": "python3",
      "display_name": "Python 3"
    }
  },
  "cells": [
    {
      "cell_type": "markdown",
      "metadata": {
        "id": "view-in-github",
        "colab_type": "text"
      },
      "source": [
        "<a href=\"https://colab.research.google.com/github/KezhenLi/Homework2/blob/main/homework2.3.ipynb\" target=\"_parent\"><img src=\"https://colab.research.google.com/assets/colab-badge.svg\" alt=\"Open In Colab\"/></a>"
      ]
    },
    {
      "cell_type": "code",
      "metadata": {
        "colab": {
          "base_uri": "https://localhost:8080/"
        },
        "id": "o0S8fP8v-Sn5",
        "outputId": "5c393bf2-48a5-45a4-b67e-d6d61dbb523a"
      },
      "source": [
        "import math\n",
        "import numpy as np\n",
        "import random as rand\n",
        "\n",
        "N = 10 #Number of points\n",
        "M = 100 #Maximum value of x and y\n",
        "E = 5 #Maximum value of error\n",
        "array = np.zeros((3,N)) \n",
        "for i in range(N):\n",
        "  array[0][i] = rand.randint(0,M)\n",
        "  array[1][i] = rand.randint(0,M)\n",
        "  array[2][i] = rand.randint(-E,E)\n",
        "print(array)  #Take a set of N (x,y) points, each with associated errors\n",
        "Sumx2 = 0   \n",
        "Sumx = 0\n",
        "Sumy = 0\n",
        "Sumxy = 0\n",
        "a = 0\n",
        "b = 0\n",
        "S = 0\n",
        "Sx = 0\n",
        "Sy = 0\n",
        "t = 0\n",
        "Stt = 0\n",
        "Sa2 = 0\n",
        "Sb2 = 0\n",
        "Chi2 = 0\n",
        "for i in range(N):\n",
        " if array[2][i] != 0:\n",
        "  Sumx2 = Sumx2 + array[0][i]*array[0][i]\n",
        "  Sumx = Sumx + array[0][i]\n",
        "  Sumxy = Sumxy + array[0][i]*array[1][i]\n",
        "  Sumy = Sumy + array[1][i]\n",
        "  S = S + 1/(array[2][i]*array[2][i])\n",
        "  Sx = Sx + array[0][i]/(array[2][i]*array[2][i])\n",
        "  Sy = Sy + array[1][i]/(array[2][i]*array[2][i])\n",
        "  Stt = Stt + pow((array[0][i] - Sx/S)/(array[2][i]),2)\n",
        "a = (1/N*Sumxy*Sumx - 1/N*Sumy*Sumx2)/(1/N*Sumx*Sumx - Sumx2) \n",
        "b = (1/N*Sumy*Sumx - Sumxy)/(1/N*Sumx*Sumx - Sumx2)\n",
        "Sa2 = 1/S*(1 + Sx*Sx/(S*Stt))\n",
        "Sb2 = 1/Stt\n",
        "print(a,b,Sa2,Sb2) #The best fit straight line parameters and errors on parameters\n",
        "for j in range(N):\n",
        "  if array[2][j] != 0:\n",
        "    Chi2 = Chi2 + pow((array[1][j] - a - b*array[0][j])/array[2][j],2)\n",
        "print(Chi2) #Chi2/ndf"
      ],
      "execution_count": 24,
      "outputs": [
        {
          "output_type": "stream",
          "text": [
            "[[87. 78. 75. 54. 62. 51.  8. 12. 28. 86.]\n",
            " [97. 63.  1. 40. 16. 58. 36. 71. 33. 70.]\n",
            " [ 3. -3. -4. -3.  3.  5. -1. -4. -2. -2.]]\n",
            "38.85335550142416 0.17831135856886934 1.5409472519151515 0.000839504176581992\n",
            "683.9136846535949\n"
          ],
          "name": "stdout"
        }
      ]
    },
    {
      "cell_type": "code",
      "metadata": {
        "colab": {
          "base_uri": "https://localhost:8080/",
          "height": 329
        },
        "id": "O3ZWNHB7-240",
        "outputId": "8fcc6249-4658-4a93-91c5-58818f4d860f"
      },
      "source": [
        "import math\n",
        "import numpy as np\n",
        "from matplotlib import pyplot as plt\n",
        "\n",
        "N = 24 #Data for Hubble’s constant\n",
        "x = [0.032, 0.034, 0.214, 0.263, 0.275, 0.275, 0.45, 0.5, 0.5, 0.63, 0.8, 0.9, 0.9, 0.9, 0.9, 1.0, 1.1, 1.1, 1.4, 1.7, 2.0, 2.0, 2.0, 2.0]\n",
        "y = [170, 290, -130, -70, -185, -220, 200, 290, 270, 200, 300, -30, 650, 150, 500, 920, 450, 500, 500, 960, 500, 850, 800, 1090]\n",
        "E = 5 #Constant error\n",
        "Sumx2 = 0   \n",
        "Sumx = 0\n",
        "Sumy = 0\n",
        "Sumxy = 0\n",
        "a = 0\n",
        "b = 0\n",
        "S = 0\n",
        "Sx = 0\n",
        "Sy = 0\n",
        "t = 0\n",
        "Stt = 0\n",
        "Sa2 = 0\n",
        "Sb2 = 0\n",
        "Chi2 = 0\n",
        "for i in range(N):\n",
        "  Sumx2 = Sumx2 + x[i]*x[i]\n",
        "  Sumx = Sumx + x[i]\n",
        "  Sumxy = Sumxy + x[i]*y[i]\n",
        "  Sumy = Sumy + y[i]\n",
        "  S = S + 1/(E*E)\n",
        "  Sx = Sx + x[i]/(E*E)\n",
        "  Sy = Sy + y[i]/(E*E)\n",
        "  Stt = Stt + pow((x[i] - Sx/S)/E,2)\n",
        "a = (1/N*Sumxy*Sumx - 1/N*Sumy*Sumx2)/(1/N*Sumx*Sumx - Sumx2) \n",
        "b = (1/N*Sumy*Sumx - Sumxy)/(1/N*Sumx*Sumx - Sumx2)\n",
        "Sa2 = 1/S*(1 + Sx*Sx/(S*Stt))\n",
        "Sb2 = 1/Stt\n",
        "print(a,b,Sa2,Sb2) #The best fit straight line parameters and errors on parameters\n",
        "for j in range(N):\n",
        "    Chi2 = Chi2 + pow((y[j] - a - b*x[j])/E,2)\n",
        "print(Chi2) #Chi2/ndf\n",
        "\n",
        "plt.scatter(x,y)\n",
        "m = np.arange(0,2.25,0.1)\n",
        "n = -40.78364909586026+454.1584409226282*m\n",
        "plt.plot(m,n,'r--')\n",
        "plt.xlabel(\"Distance(*10^6 parsecs)\")\n",
        "plt.ylabel(\"Velocity(km./sec.)\")\n",
        "plt.title(\"Velocity-Distance Relation among Extra-Galactic Nebulae\")\n",
        "plt.show()"
      ],
      "execution_count": 25,
      "outputs": [
        {
          "output_type": "stream",
          "text": [
            "-40.78364909586026 454.1584409226282 3.3333351437508445 2.7590372780955104\n",
            "47737.6946508856\n"
          ],
          "name": "stdout"
        },
        {
          "output_type": "display_data",
          "data": {
            "image/png": "[encoded data removed]",
            "text/plain": [
              "<Figure size 432x288 with 1 Axes>"
            ]
          },
          "metadata": {
            "tags": [],
            "needs_background": "light"
          }
        }
      ]
    }
  ]
}